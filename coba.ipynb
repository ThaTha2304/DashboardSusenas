{
 "cells": [
  {
   "cell_type": "code",
   "execution_count": 3,
   "id": "0a1825da",
   "metadata": {},
   "outputs": [],
   "source": [
    "import pandas as pd"
   ]
  },
  {
   "cell_type": "code",
   "execution_count": 4,
   "id": "01a574e6",
   "metadata": {},
   "outputs": [
    {
     "name": "stdout",
     "output_type": "stream",
     "text": [
      "Kode Kecamatan\n",
      "10    3\n",
      "11    5\n",
      "12    1\n",
      "20    8\n",
      "21    2\n",
      "22    2\n",
      "23    2\n",
      "30    6\n",
      "31    1\n",
      "40    5\n",
      "Name: Status Dokumen, dtype: int64\n"
     ]
    }
   ],
   "source": [
    "data = pd.read_csv(\"Data_dash.csv\")\n",
    "# print(data.head())\n",
    "\n",
    "temp = data[data['Status Dokumen'] == \"Clean\"]\n",
    "df_summary = temp.groupby(\"Kode Kecamatan\")[\"Status Dokumen\"].count()\n",
    "print(df_summary)"
   ]
  },
  {
   "cell_type": "code",
   "execution_count": 5,
   "id": "77ef6f22",
   "metadata": {},
   "outputs": [
    {
     "name": "stdout",
     "output_type": "stream",
     "text": [
      "    No  Kode Provinsi                   Provinsi  \\\n",
      "0    1             13             SUMATERA BARAT   \n",
      "1    2             13  SUMATERA BARAT              \n",
      "2    3             13  SUMATERA BARAT              \n",
      "3    4             13  SUMATERA BARAT              \n",
      "4    5             13  SUMATERA BARAT              \n",
      "..  ..            ...                        ...   \n",
      "56  57             13  SUMATERA BARAT              \n",
      "57  58             13  SUMATERA BARAT              \n",
      "58  59             13  SUMATERA BARAT              \n",
      "59  60             13  SUMATERA BARAT              \n",
      "60  61             13  SUMATERA BARAT              \n",
      "\n",
      "                     Kd-Provinsi  Kode Kabupaten                   Kabupaten  \\\n",
      "0              13 SUMATERA BARAT              11  DHARMASRAYA                  \n",
      "1   13 SUMATERA BARAT                         11  DHARMASRAYA                  \n",
      "2   13 SUMATERA BARAT                         11  DHARMASRAYA                  \n",
      "3   13 SUMATERA BARAT                         11  DHARMASRAYA                  \n",
      "4   13 SUMATERA BARAT                         11  DHARMASRAYA                  \n",
      "..                           ...             ...                         ...   \n",
      "56  13 SUMATERA BARAT                         11  DHARMASRAYA                  \n",
      "57  13 SUMATERA BARAT                         11  DHARMASRAYA                  \n",
      "58  13 SUMATERA BARAT                         11  DHARMASRAYA                  \n",
      "59  13 SUMATERA BARAT                         11  DHARMASRAYA                  \n",
      "60  13 SUMATERA BARAT                         11  DHARMASRAYA                  \n",
      "\n",
      "                     Kd-Kabupaten  Kode Kecamatan  \\\n",
      "0   11 DHARMASRAYA                             10   \n",
      "1   11 DHARMASRAYA                             10   \n",
      "2   11 DHARMASRAYA                             10   \n",
      "3   11 DHARMASRAYA                             10   \n",
      "4   11 DHARMASRAYA                             10   \n",
      "..                            ...             ...   \n",
      "56  11 DHARMASRAYA                             40   \n",
      "57  11 DHARMASRAYA                             41   \n",
      "58  11 DHARMASRAYA                             41   \n",
      "59  11 DHARMASRAYA                             41   \n",
      "60  11 DHARMASRAYA                             41   \n",
      "\n",
      "                          Kecamatan                         Kd-Kecamatan  ...  \\\n",
      "0   SUNGAI RUMBAI                    010 SUNGAI RUMBAI                    ...   \n",
      "1   SUNGAI RUMBAI                    010 SUNGAI RUMBAI                    ...   \n",
      "2   SUNGAI RUMBAI                    010 SUNGAI RUMBAI                    ...   \n",
      "3   SUNGAI RUMBAI                    010 SUNGAI RUMBAI                    ...   \n",
      "4   SUNGAI RUMBAI                    010 SUNGAI RUMBAI                    ...   \n",
      "..                              ...                                  ...  ...   \n",
      "56  PULAU PUNJUNG                    040 PULAU PUNJUNG                    ...   \n",
      "57  IX KOTO                          041 IX KOTO                          ...   \n",
      "58  IX KOTO                          041 IX KOTO                          ...   \n",
      "59  IX KOTO                          041 IX KOTO                          ...   \n",
      "60  IX KOTO                          041 IX KOTO                          ...   \n",
      "\n",
      "    Tanggal Diterima Tanggal Entri Tanggal Selesai Entri Status Dokumen  \\\n",
      "0                NaN           NaN                   NaN          Error   \n",
      "1         07/02/2025    07/02/2025            07/02/2025          Clean   \n",
      "2                NaN           NaN                   NaN          Error   \n",
      "3         05/02/2025    07/02/2025            07/02/2025          Clean   \n",
      "4         05/02/2025    06/02/2025            06/02/2025          Clean   \n",
      "..               ...           ...                   ...            ...   \n",
      "56        08/02/2025    08/02/2025            08/02/2025          Clean   \n",
      "57               NaN           NaN                   NaN          Error   \n",
      "58        07/02/2025    07/02/2025            07/02/2025          Error   \n",
      "59               NaN           NaN                   NaN          Error   \n",
      "60        07/02/2025    07/02/2025            07/02/2025          Error   \n",
      "\n",
      "    Jumlah Keluarga Sebelum Pemutakhiran Jumlah Keluarga Hasil Pemutakhiran  \\\n",
      "0                                    NaN                                NaN   \n",
      "1                                  121.0                              135.0   \n",
      "2                                    NaN                                NaN   \n",
      "3                                  130.0                              131.0   \n",
      "4                                   87.0                               89.0   \n",
      "..                                   ...                                ...   \n",
      "56                                 118.0                              134.0   \n",
      "57                                   NaN                                NaN   \n",
      "58                                  85.0                               82.0   \n",
      "59                                   NaN                                NaN   \n",
      "60                                 136.0                              142.0   \n",
      "\n",
      "   Jumlah Rumah Tangga Hasil Pemutakhiran idKab    idKec       idNag  \n",
      "0                                     NaN  1311  1311010  1311010005  \n",
      "1                                   129.0  1311  1311010  1311010005  \n",
      "2                                     NaN  1311  1311010  1311010007  \n",
      "3                                   131.0  1311  1311010  1311010008  \n",
      "4                                    89.0  1311  1311010  1311010008  \n",
      "..                                    ...   ...      ...         ...  \n",
      "56                                  131.0  1311  1311040  1311040008  \n",
      "57                                    NaN  1311  1311041  1311041001  \n",
      "58                                   82.0  1311  1311041  1311041003  \n",
      "59                                    NaN  1311  1311041  1311041004  \n",
      "60                                  139.0  1311  1311041  1311041004  \n",
      "\n",
      "[61 rows x 28 columns]\n"
     ]
    }
   ],
   "source": [
    "# print(data[\"Kode SLS\"][0][:4])\n",
    "data[\"idKab\"] = data[\"Kode SLS\"].str[:4]\n",
    "data[\"idKec\"] = data[\"Kode SLS\"].str[:7]\n",
    "data[\"idNag\"] = data[\"Kode SLS\"].str[:7]\n",
    "data[\"idNag\"] = data[\"Kode SLS\"].str[:10]\n",
    "print(data)"
   ]
  },
  {
   "cell_type": "code",
   "execution_count": 25,
   "id": "46c73a54",
   "metadata": {},
   "outputs": [
    {
     "name": "stdout",
     "output_type": "stream",
     "text": [
      "  idKab  Total  Clean  Persentase Clean\n",
      "0  1311     61     35             57.38\n"
     ]
    }
   ],
   "source": [
    "total_kec = data.groupby(\"idKab\")[\"Status Dokumen\"].count()\n",
    "\n",
    "clean_kec = data[data['Status Dokumen'] == \"Clean\"].groupby(\"idKab\")[\"Status Dokumen\"].count()\n",
    "\n",
    "df_summary = pd.DataFrame({\n",
    "    \"Total\" : total_kec,\n",
    "    \"Clean\" : clean_kec\n",
    "})\n",
    "\n",
    "df_summary[\"Persentase Clean\"] = (df_summary[\"Clean\"] / df_summary[\"Total\"])*100\n",
    "df_summary[\"Persentase Clean\"] = df_summary[\"Persentase Clean\"].round(2)\n",
    "df_summary = df_summary.reset_index()\n",
    "print(df_summary)"
   ]
  }
 ],
 "metadata": {
  "kernelspec": {
   "display_name": "dashboard",
   "language": "python",
   "name": "python3"
  },
  "language_info": {
   "codemirror_mode": {
    "name": "ipython",
    "version": 3
   },
   "file_extension": ".py",
   "mimetype": "text/x-python",
   "name": "python",
   "nbconvert_exporter": "python",
   "pygments_lexer": "ipython3",
   "version": "3.13.5"
  }
 },
 "nbformat": 4,
 "nbformat_minor": 5
}
