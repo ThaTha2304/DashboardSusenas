{
 "cells": [
  {
   "cell_type": "code",
   "execution_count": 3,
   "id": "0a1825da",
   "metadata": {},
   "outputs": [],
   "source": [
    "import pandas as pd"
   ]
  },
  {
   "cell_type": "code",
   "execution_count": 4,
   "id": "01a574e6",
   "metadata": {},
   "outputs": [
    {
     "name": "stdout",
     "output_type": "stream",
     "text": [
      "Kode Kecamatan\n",
      "10    3\n",
      "11    5\n",
      "12    1\n",
      "20    8\n",
      "21    2\n",
      "22    2\n",
      "23    2\n",
      "30    6\n",
      "31    1\n",
      "40    5\n",
      "Name: Status Dokumen, dtype: int64\n"
     ]
    }
   ],
   "source": [
    "data = pd.read_csv(\"Data_dash.csv\")\n",
    "# print(data.head())\n",
    "\n",
    "temp = data[data['Status Dokumen'] == \"Clean\"]\n",
    "df_summary = temp.groupby(\"Kode Kecamatan\")[\"Status Dokumen\"].count()\n",
    "print(df_summary)"
   ]
  },
  {
   "cell_type": "code",
   "execution_count": 5,
   "id": "77ef6f22",
   "metadata": {},
   "outputs": [
    {
     "name": "stdout",
     "output_type": "stream",
     "text": [
      "    No  Kode Provinsi                   Provinsi  \\\n",
      "0    1             13             SUMATERA BARAT   \n",
      "1    2             13  SUMATERA BARAT              \n",
      "2    3             13  SUMATERA BARAT              \n",
      "3    4             13  SUMATERA BARAT              \n",
      "4    5             13  SUMATERA BARAT              \n",
      "..  ..            ...                        ...   \n",
      "56  57             13  SUMATERA BARAT              \n",
      "57  58             13  SUMATERA BARAT              \n",
      "58  59             13  SUMATERA BARAT              \n",
      "59  60             13  SUMATERA BARAT              \n",
      "60  61             13  SUMATERA BARAT              \n",
      "\n",
      "                     Kd-Provinsi  Kode Kabupaten                   Kabupaten  \\\n",
      "0              13 SUMATERA BARAT              11  DHARMASRAYA                  \n",
      "1   13 SUMATERA BARAT                         11  DHARMASRAYA                  \n",
      "2   13 SUMATERA BARAT                         11  DHARMASRAYA                  \n",
      "3   13 SUMATERA BARAT                         11  DHARMASRAYA                  \n",
      "4   13 SUMATERA BARAT                         11  DHARMASRAYA                  \n",
      "..                           ...             ...                         ...   \n",
      "56  13 SUMATERA BARAT                         11  DHARMASRAYA                  \n",
      "57  13 SUMATERA BARAT                         11  DHARMASRAYA                  \n",
      "58  13 SUMATERA BARAT                         11  DHARMASRAYA                  \n",
      "59  13 SUMATERA BARAT                         11  DHARMASRAYA                  \n",
      "60  13 SUMATERA BARAT                         11  DHARMASRAYA                  \n",
      "\n",
      "                     Kd-Kabupaten  Kode Kecamatan  \\\n",
      "0   11 DHARMASRAYA                             10   \n",
      "1   11 DHARMASRAYA                             10   \n",
      "2   11 DHARMASRAYA                             10   \n",
      "3   11 DHARMASRAYA                             10   \n",
      "4   11 DHARMASRAYA                             10   \n",
      "..                            ...             ...   \n",
      "56  11 DHARMASRAYA                             40   \n",
      "57  11 DHARMASRAYA                             41   \n",
      "58  11 DHARMASRAYA                             41   \n",
      "59  11 DHARMASRAYA                             41   \n",
      "60  11 DHARMASRAYA                             41   \n",
      "\n",
      "                          Kecamatan                         Kd-Kecamatan  ...  \\\n",
      "0   SUNGAI RUMBAI                    010 SUNGAI RUMBAI                    ...   \n",
      "1   SUNGAI RUMBAI                    010 SUNGAI RUMBAI                    ...   \n",
      "2   SUNGAI RUMBAI                    010 SUNGAI RUMBAI                    ...   \n",
      "3   SUNGAI RUMBAI                    010 SUNGAI RUMBAI                    ...   \n",
      "4   SUNGAI RUMBAI                    010 SUNGAI RUMBAI                    ...   \n",
      "..                              ...                                  ...  ...   \n",
      "56  PULAU PUNJUNG                    040 PULAU PUNJUNG                    ...   \n",
      "57  IX KOTO                          041 IX KOTO                          ...   \n",
      "58  IX KOTO                          041 IX KOTO                          ...   \n",
      "59  IX KOTO                          041 IX KOTO                          ...   \n",
      "60  IX KOTO                          041 IX KOTO                          ...   \n",
      "\n",
      "    Tanggal Diterima Tanggal Entri Tanggal Selesai Entri Status Dokumen  \\\n",
      "0                NaN           NaN                   NaN          Error   \n",
      "1         07/02/2025    07/02/2025            07/02/2025          Clean   \n",
      "2                NaN           NaN                   NaN          Error   \n",
      "3         05/02/2025    07/02/2025            07/02/2025          Clean   \n",
      "4         05/02/2025    06/02/2025            06/02/2025          Clean   \n",
      "..               ...           ...                   ...            ...   \n",
      "56        08/02/2025    08/02/2025            08/02/2025          Clean   \n",
      "57               NaN           NaN                   NaN          Error   \n",
      "58        07/02/2025    07/02/2025            07/02/2025          Error   \n",
      "59               NaN           NaN                   NaN          Error   \n",
      "60        07/02/2025    07/02/2025            07/02/2025          Error   \n",
      "\n",
      "    Jumlah Keluarga Sebelum Pemutakhiran Jumlah Keluarga Hasil Pemutakhiran  \\\n",
      "0                                    NaN                                NaN   \n",
      "1                                  121.0                              135.0   \n",
      "2                                    NaN                                NaN   \n",
      "3                                  130.0                              131.0   \n",
      "4                                   87.0                               89.0   \n",
      "..                                   ...                                ...   \n",
      "56                                 118.0                              134.0   \n",
      "57                                   NaN                                NaN   \n",
      "58                                  85.0                               82.0   \n",
      "59                                   NaN                                NaN   \n",
      "60                                 136.0                              142.0   \n",
      "\n",
      "   Jumlah Rumah Tangga Hasil Pemutakhiran idKab    idKec       idNag  \n",
      "0                                     NaN  1311  1311010  1311010005  \n",
      "1                                   129.0  1311  1311010  1311010005  \n",
      "2                                     NaN  1311  1311010  1311010007  \n",
      "3                                   131.0  1311  1311010  1311010008  \n",
      "4                                    89.0  1311  1311010  1311010008  \n",
      "..                                    ...   ...      ...         ...  \n",
      "56                                  131.0  1311  1311040  1311040008  \n",
      "57                                    NaN  1311  1311041  1311041001  \n",
      "58                                   82.0  1311  1311041  1311041003  \n",
      "59                                    NaN  1311  1311041  1311041004  \n",
      "60                                  139.0  1311  1311041  1311041004  \n",
      "\n",
      "[61 rows x 28 columns]\n"
     ]
    }
   ],
   "source": [
    "# print(data[\"Kode SLS\"][0][:4])\n",
    "data[\"idKab\"] = data[\"Kode SLS\"].str[:4]\n",
    "data[\"idKec\"] = data[\"Kode SLS\"].str[:7]\n",
    "data[\"idNag\"] = data[\"Kode SLS\"].str[:7]\n",
    "data[\"idNag\"] = data[\"Kode SLS\"].str[:10]\n",
    "print(data)"
   ]
  },
  {
   "cell_type": "code",
   "execution_count": 25,
   "id": "46c73a54",
   "metadata": {},
   "outputs": [
    {
     "name": "stdout",
     "output_type": "stream",
     "text": [
      "  idKab  Total  Clean  Persentase Clean\n",
      "0  1311     61     35             57.38\n"
     ]
    }
   ],
   "source": [
    "total_kec = data.groupby(\"idKab\")[\"Status Dokumen\"].count()\n",
    "\n",
    "clean_kec = data[data['Status Dokumen'] == \"Clean\"].groupby(\"idKab\")[\"Status Dokumen\"].count()\n",
    "\n",
    "df_summary = pd.DataFrame({\n",
    "    \"Total\" : total_kec,\n",
    "    \"Clean\" : clean_kec\n",
    "})\n",
    "\n",
    "df_summary[\"Persentase Clean\"] = (df_summary[\"Clean\"] / df_summary[\"Total\"])*100\n",
    "df_summary[\"Persentase Clean\"] = df_summary[\"Persentase Clean\"].round(2)\n",
    "df_summary = df_summary.reset_index()\n",
    "print(df_summary)"
   ]
  },
  {
   "cell_type": "code",
   "execution_count": 10,
   "id": "157d3506",
   "metadata": {},
   "outputs": [
    {
     "data": {
      "application/vnd.plotly.v1+json": {
       "config": {
        "plotlyServerURL": "https://plot.ly"
       },
       "data": [
        {
         "marker": {
          "color": "#00cc96"
         },
         "orientation": "h",
         "type": "bar",
         "width": [
          0.4
         ],
         "x": [
          70
         ],
         "y": [
          "Progress"
         ]
        }
       ],
       "layout": {
        "template": {
         "data": {
          "bar": [
           {
            "error_x": {
             "color": "#2a3f5f"
            },
            "error_y": {
             "color": "#2a3f5f"
            },
            "marker": {
             "line": {
              "color": "#E5ECF6",
              "width": 0.5
             },
             "pattern": {
              "fillmode": "overlay",
              "size": 10,
              "solidity": 0.2
             }
            },
            "type": "bar"
           }
          ],
          "barpolar": [
           {
            "marker": {
             "line": {
              "color": "#E5ECF6",
              "width": 0.5
             },
             "pattern": {
              "fillmode": "overlay",
              "size": 10,
              "solidity": 0.2
             }
            },
            "type": "barpolar"
           }
          ],
          "carpet": [
           {
            "aaxis": {
             "endlinecolor": "#2a3f5f",
             "gridcolor": "white",
             "linecolor": "white",
             "minorgridcolor": "white",
             "startlinecolor": "#2a3f5f"
            },
            "baxis": {
             "endlinecolor": "#2a3f5f",
             "gridcolor": "white",
             "linecolor": "white",
             "minorgridcolor": "white",
             "startlinecolor": "#2a3f5f"
            },
            "type": "carpet"
           }
          ],
          "choropleth": [
           {
            "colorbar": {
             "outlinewidth": 0,
             "ticks": ""
            },
            "type": "choropleth"
           }
          ],
          "contour": [
           {
            "colorbar": {
             "outlinewidth": 0,
             "ticks": ""
            },
            "colorscale": [
             [
              0,
              "#0d0887"
             ],
             [
              0.1111111111111111,
              "#46039f"
             ],
             [
              0.2222222222222222,
              "#7201a8"
             ],
             [
              0.3333333333333333,
              "#9c179e"
             ],
             [
              0.4444444444444444,
              "#bd3786"
             ],
             [
              0.5555555555555556,
              "#d8576b"
             ],
             [
              0.6666666666666666,
              "#ed7953"
             ],
             [
              0.7777777777777778,
              "#fb9f3a"
             ],
             [
              0.8888888888888888,
              "#fdca26"
             ],
             [
              1,
              "#f0f921"
             ]
            ],
            "type": "contour"
           }
          ],
          "contourcarpet": [
           {
            "colorbar": {
             "outlinewidth": 0,
             "ticks": ""
            },
            "type": "contourcarpet"
           }
          ],
          "heatmap": [
           {
            "colorbar": {
             "outlinewidth": 0,
             "ticks": ""
            },
            "colorscale": [
             [
              0,
              "#0d0887"
             ],
             [
              0.1111111111111111,
              "#46039f"
             ],
             [
              0.2222222222222222,
              "#7201a8"
             ],
             [
              0.3333333333333333,
              "#9c179e"
             ],
             [
              0.4444444444444444,
              "#bd3786"
             ],
             [
              0.5555555555555556,
              "#d8576b"
             ],
             [
              0.6666666666666666,
              "#ed7953"
             ],
             [
              0.7777777777777778,
              "#fb9f3a"
             ],
             [
              0.8888888888888888,
              "#fdca26"
             ],
             [
              1,
              "#f0f921"
             ]
            ],
            "type": "heatmap"
           }
          ],
          "histogram": [
           {
            "marker": {
             "pattern": {
              "fillmode": "overlay",
              "size": 10,
              "solidity": 0.2
             }
            },
            "type": "histogram"
           }
          ],
          "histogram2d": [
           {
            "colorbar": {
             "outlinewidth": 0,
             "ticks": ""
            },
            "colorscale": [
             [
              0,
              "#0d0887"
             ],
             [
              0.1111111111111111,
              "#46039f"
             ],
             [
              0.2222222222222222,
              "#7201a8"
             ],
             [
              0.3333333333333333,
              "#9c179e"
             ],
             [
              0.4444444444444444,
              "#bd3786"
             ],
             [
              0.5555555555555556,
              "#d8576b"
             ],
             [
              0.6666666666666666,
              "#ed7953"
             ],
             [
              0.7777777777777778,
              "#fb9f3a"
             ],
             [
              0.8888888888888888,
              "#fdca26"
             ],
             [
              1,
              "#f0f921"
             ]
            ],
            "type": "histogram2d"
           }
          ],
          "histogram2dcontour": [
           {
            "colorbar": {
             "outlinewidth": 0,
             "ticks": ""
            },
            "colorscale": [
             [
              0,
              "#0d0887"
             ],
             [
              0.1111111111111111,
              "#46039f"
             ],
             [
              0.2222222222222222,
              "#7201a8"
             ],
             [
              0.3333333333333333,
              "#9c179e"
             ],
             [
              0.4444444444444444,
              "#bd3786"
             ],
             [
              0.5555555555555556,
              "#d8576b"
             ],
             [
              0.6666666666666666,
              "#ed7953"
             ],
             [
              0.7777777777777778,
              "#fb9f3a"
             ],
             [
              0.8888888888888888,
              "#fdca26"
             ],
             [
              1,
              "#f0f921"
             ]
            ],
            "type": "histogram2dcontour"
           }
          ],
          "mesh3d": [
           {
            "colorbar": {
             "outlinewidth": 0,
             "ticks": ""
            },
            "type": "mesh3d"
           }
          ],
          "parcoords": [
           {
            "line": {
             "colorbar": {
              "outlinewidth": 0,
              "ticks": ""
             }
            },
            "type": "parcoords"
           }
          ],
          "pie": [
           {
            "automargin": true,
            "type": "pie"
           }
          ],
          "scatter": [
           {
            "fillpattern": {
             "fillmode": "overlay",
             "size": 10,
             "solidity": 0.2
            },
            "type": "scatter"
           }
          ],
          "scatter3d": [
           {
            "line": {
             "colorbar": {
              "outlinewidth": 0,
              "ticks": ""
             }
            },
            "marker": {
             "colorbar": {
              "outlinewidth": 0,
              "ticks": ""
             }
            },
            "type": "scatter3d"
           }
          ],
          "scattercarpet": [
           {
            "marker": {
             "colorbar": {
              "outlinewidth": 0,
              "ticks": ""
             }
            },
            "type": "scattercarpet"
           }
          ],
          "scattergeo": [
           {
            "marker": {
             "colorbar": {
              "outlinewidth": 0,
              "ticks": ""
             }
            },
            "type": "scattergeo"
           }
          ],
          "scattergl": [
           {
            "marker": {
             "colorbar": {
              "outlinewidth": 0,
              "ticks": ""
             }
            },
            "type": "scattergl"
           }
          ],
          "scattermap": [
           {
            "marker": {
             "colorbar": {
              "outlinewidth": 0,
              "ticks": ""
             }
            },
            "type": "scattermap"
           }
          ],
          "scattermapbox": [
           {
            "marker": {
             "colorbar": {
              "outlinewidth": 0,
              "ticks": ""
             }
            },
            "type": "scattermapbox"
           }
          ],
          "scatterpolar": [
           {
            "marker": {
             "colorbar": {
              "outlinewidth": 0,
              "ticks": ""
             }
            },
            "type": "scatterpolar"
           }
          ],
          "scatterpolargl": [
           {
            "marker": {
             "colorbar": {
              "outlinewidth": 0,
              "ticks": ""
             }
            },
            "type": "scatterpolargl"
           }
          ],
          "scatterternary": [
           {
            "marker": {
             "colorbar": {
              "outlinewidth": 0,
              "ticks": ""
             }
            },
            "type": "scatterternary"
           }
          ],
          "surface": [
           {
            "colorbar": {
             "outlinewidth": 0,
             "ticks": ""
            },
            "colorscale": [
             [
              0,
              "#0d0887"
             ],
             [
              0.1111111111111111,
              "#46039f"
             ],
             [
              0.2222222222222222,
              "#7201a8"
             ],
             [
              0.3333333333333333,
              "#9c179e"
             ],
             [
              0.4444444444444444,
              "#bd3786"
             ],
             [
              0.5555555555555556,
              "#d8576b"
             ],
             [
              0.6666666666666666,
              "#ed7953"
             ],
             [
              0.7777777777777778,
              "#fb9f3a"
             ],
             [
              0.8888888888888888,
              "#fdca26"
             ],
             [
              1,
              "#f0f921"
             ]
            ],
            "type": "surface"
           }
          ],
          "table": [
           {
            "cells": {
             "fill": {
              "color": "#EBF0F8"
             },
             "line": {
              "color": "white"
             }
            },
            "header": {
             "fill": {
              "color": "#C8D4E3"
             },
             "line": {
              "color": "white"
             }
            },
            "type": "table"
           }
          ]
         },
         "layout": {
          "annotationdefaults": {
           "arrowcolor": "#2a3f5f",
           "arrowhead": 0,
           "arrowwidth": 1
          },
          "autotypenumbers": "strict",
          "coloraxis": {
           "colorbar": {
            "outlinewidth": 0,
            "ticks": ""
           }
          },
          "colorscale": {
           "diverging": [
            [
             0,
             "#8e0152"
            ],
            [
             0.1,
             "#c51b7d"
            ],
            [
             0.2,
             "#de77ae"
            ],
            [
             0.3,
             "#f1b6da"
            ],
            [
             0.4,
             "#fde0ef"
            ],
            [
             0.5,
             "#f7f7f7"
            ],
            [
             0.6,
             "#e6f5d0"
            ],
            [
             0.7,
             "#b8e186"
            ],
            [
             0.8,
             "#7fbc41"
            ],
            [
             0.9,
             "#4d9221"
            ],
            [
             1,
             "#276419"
            ]
           ],
           "sequential": [
            [
             0,
             "#0d0887"
            ],
            [
             0.1111111111111111,
             "#46039f"
            ],
            [
             0.2222222222222222,
             "#7201a8"
            ],
            [
             0.3333333333333333,
             "#9c179e"
            ],
            [
             0.4444444444444444,
             "#bd3786"
            ],
            [
             0.5555555555555556,
             "#d8576b"
            ],
            [
             0.6666666666666666,
             "#ed7953"
            ],
            [
             0.7777777777777778,
             "#fb9f3a"
            ],
            [
             0.8888888888888888,
             "#fdca26"
            ],
            [
             1,
             "#f0f921"
            ]
           ],
           "sequentialminus": [
            [
             0,
             "#0d0887"
            ],
            [
             0.1111111111111111,
             "#46039f"
            ],
            [
             0.2222222222222222,
             "#7201a8"
            ],
            [
             0.3333333333333333,
             "#9c179e"
            ],
            [
             0.4444444444444444,
             "#bd3786"
            ],
            [
             0.5555555555555556,
             "#d8576b"
            ],
            [
             0.6666666666666666,
             "#ed7953"
            ],
            [
             0.7777777777777778,
             "#fb9f3a"
            ],
            [
             0.8888888888888888,
             "#fdca26"
            ],
            [
             1,
             "#f0f921"
            ]
           ]
          },
          "colorway": [
           "#636efa",
           "#EF553B",
           "#00cc96",
           "#ab63fa",
           "#FFA15A",
           "#19d3f3",
           "#FF6692",
           "#B6E880",
           "#FF97FF",
           "#FECB52"
          ],
          "font": {
           "color": "#2a3f5f"
          },
          "geo": {
           "bgcolor": "white",
           "lakecolor": "white",
           "landcolor": "#E5ECF6",
           "showlakes": true,
           "showland": true,
           "subunitcolor": "white"
          },
          "hoverlabel": {
           "align": "left"
          },
          "hovermode": "closest",
          "mapbox": {
           "style": "light"
          },
          "paper_bgcolor": "white",
          "plot_bgcolor": "#E5ECF6",
          "polar": {
           "angularaxis": {
            "gridcolor": "white",
            "linecolor": "white",
            "ticks": ""
           },
           "bgcolor": "#E5ECF6",
           "radialaxis": {
            "gridcolor": "white",
            "linecolor": "white",
            "ticks": ""
           }
          },
          "scene": {
           "xaxis": {
            "backgroundcolor": "#E5ECF6",
            "gridcolor": "white",
            "gridwidth": 2,
            "linecolor": "white",
            "showbackground": true,
            "ticks": "",
            "zerolinecolor": "white"
           },
           "yaxis": {
            "backgroundcolor": "#E5ECF6",
            "gridcolor": "white",
            "gridwidth": 2,
            "linecolor": "white",
            "showbackground": true,
            "ticks": "",
            "zerolinecolor": "white"
           },
           "zaxis": {
            "backgroundcolor": "#E5ECF6",
            "gridcolor": "white",
            "gridwidth": 2,
            "linecolor": "white",
            "showbackground": true,
            "ticks": "",
            "zerolinecolor": "white"
           }
          },
          "shapedefaults": {
           "line": {
            "color": "#2a3f5f"
           }
          },
          "ternary": {
           "aaxis": {
            "gridcolor": "white",
            "linecolor": "white",
            "ticks": ""
           },
           "baxis": {
            "gridcolor": "white",
            "linecolor": "white",
            "ticks": ""
           },
           "bgcolor": "#E5ECF6",
           "caxis": {
            "gridcolor": "white",
            "linecolor": "white",
            "ticks": ""
           }
          },
          "title": {
           "x": 0.05
          },
          "xaxis": {
           "automargin": true,
           "gridcolor": "white",
           "linecolor": "white",
           "ticks": "",
           "title": {
            "standoff": 15
           },
           "zerolinecolor": "white",
           "zerolinewidth": 2
          },
          "yaxis": {
           "automargin": true,
           "gridcolor": "white",
           "linecolor": "white",
           "ticks": "",
           "title": {
            "standoff": 15
           },
           "zerolinecolor": "white",
           "zerolinewidth": 2
          }
         }
        }
       }
      }
     },
     "metadata": {},
     "output_type": "display_data"
    }
   ],
   "source": [
    "import plotly.graph_objects as go\n",
    "\n",
    "progress = 70\n",
    "remaining = 100 - progress\n",
    "\n",
    "# # Buat bar chart horizontal\n",
    "fig = go.Figure(go.Bar(\n",
    "    x=[progress],\n",
    "    y=[\"Progress\"],\n",
    "    orientation='h',\n",
    "    width=[0.4],  # ketebalan bar\n",
    "    marker=dict(color='#00cc96')\n",
    "))\n",
    "\n",
    "# # Tambah bar \"sisa\" di belakangnya (background)\n",
    "# # fig.add_trace(go.Bar(\n",
    "# #     x=[100],\n",
    "# #     y=[\"Progress\"],\n",
    "# #     orientation='h',\n",
    "# #     width=[0.4],\n",
    "# #     marker=dict(color='#e0e0e0'),\n",
    "# #     showlegend=False,\n",
    "# #     opacity=0.3,\n",
    "# # ))\n",
    "\n",
    "# fig.update_layout(\n",
    "#     barmode='overlay',  # Tumpuk bar sisa di belakang\n",
    "#     xaxis=dict(range=[0, 100], showticklabels=False),\n",
    "#     yaxis=dict(showticklabels=False),\n",
    "#     height=100,\n",
    "#     margin=dict(l=10, r=10, t=10, b=10),\n",
    "#     showlegend=False,\n",
    "#     annotations=[dict(\n",
    "#         x=progress/2,\n",
    "#         y=0,\n",
    "#         text=f\"{progress}%\",\n",
    "#         showarrow=False,\n",
    "#         font_size=18,\n",
    "#         xanchor='center',\n",
    "#         yanchor='middle'\n",
    "#     )]\n",
    "# )\n",
    "\n",
    "fig.show()\n",
    "\n"
   ]
  },
  {
   "cell_type": "code",
   "execution_count": null,
   "id": "0979b6a3",
   "metadata": {},
   "outputs": [],
   "source": [
    "    # fig = go.Figure(go.Bar(\n",
    "    #     x = [jumlah_clean],\n",
    "    #     y = [\"Dokumen\"],\n",
    "    #     orientation = \"h\",\n",
    "    #     name = \"\",\n",
    "    #     marker_color = \"#00cc96\",\n",
    "    #     hovertemplate = f'Clean : {jumlah_clean}'\n",
    "    # ))\n",
    "\n",
    "    # fig.add_trace(go.Bar(\n",
    "    #     x = [jumlah_error],\n",
    "    #     y = [\"Dokumen\"],\n",
    "    #     orientation = \"h\",\n",
    "    #     name = \"\",\n",
    "    #     showlegend=False,\n",
    "    #     marker_color = \"#FF6961\",\n",
    "    #     hovertemplate = f'Error : {jumlah_error}'\n",
    "    # ))\n",
    "    # fig.update_layout(\n",
    "    #     barmode = \"overlay\",\n",
    "    #     xaxis = dict(range=[0, updatingData[\"idbs\"].count()], showticklabels = False),\n",
    "    #     yaxis = dict(showticklabels = False),\n",
    "    #     height = 50,\n",
    "    #     margin = dict(l=10, r=10, t=0, b=0),\n",
    "    #     showlegend = False,\n",
    "    #     annotations = [dict(\n",
    "    #         x = jumlah_clean/2,\n",
    "    #         y=0,\n",
    "    #         text = f\"{jumlah_clean} - {100*(jumlah_clean/updatingData[\"idbs\"].count()):.2f}%\",\n",
    "    #         showarrow = False,\n",
    "    #         font = dict(size = 20, color = \"#31333F\"), \n",
    "    #         xanchor = \"center\",\n",
    "    #         yanchor = \"middle\"\n",
    "    #     )]\n",
    "    # )\n",
    "    # st.plotly_chart(fig, use_container_width=True)\n"
   ]
  }
 ],
 "metadata": {
  "kernelspec": {
   "display_name": "dashboard",
   "language": "python",
   "name": "python3"
  },
  "language_info": {
   "codemirror_mode": {
    "name": "ipython",
    "version": 3
   },
   "file_extension": ".py",
   "mimetype": "text/x-python",
   "name": "python",
   "nbconvert_exporter": "python",
   "pygments_lexer": "ipython3",
   "version": "3.13.5"
  }
 },
 "nbformat": 4,
 "nbformat_minor": 5
}
